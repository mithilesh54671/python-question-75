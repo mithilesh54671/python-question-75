{
 "cells": [
  {
   "cell_type": "markdown",
   "id": "6c019f24-cb0d-45ba-ba47-cb976dc67a5e",
   "metadata": {},
   "source": [
    "77.How do you use a Pool to execute a function with multiple arguments in parallel?"
   ]
  },
  {
   "cell_type": "code",
   "execution_count": 1,
   "id": "85a513f9-dbad-4da1-84ae-85f0b264e86c",
   "metadata": {},
   "outputs": [
    {
     "name": "stdout",
     "output_type": "stream",
     "text": [
      "[6, 20]\n"
     ]
    }
   ],
   "source": [
    "import multiprocessing \n",
    "def my_function(num1, num2):\n",
    "    return num1 * num2\n",
    "\n",
    "if __name__ == '__main__':\n",
    "    with multiprocessing.Pool(processes=2) as pool:\n",
    "        results = pool.starmap(my_function, [(2, 3), (4, 5)])\n",
    "        print(results)"
   ]
  },
  {
   "cell_type": "markdown",
   "id": "129c9b0e-ebbd-44e7-8d64-f89273480abf",
   "metadata": {},
   "source": [
    "78.Write a Python program to calculate the sum of squares of numbers in a list using multiprocessing."
   ]
  },
  {
   "cell_type": "code",
   "execution_count": 2,
   "id": "28906046-b9c8-4711-a4fe-ee25fdd6f027",
   "metadata": {},
   "outputs": [
    {
     "name": "stdout",
     "output_type": "stream",
     "text": [
      "Sum of square of [1, 2, 3, 4, 5] is 55\n"
     ]
    }
   ],
   "source": [
    "import multiprocessing \n",
    "def square_sum(numbers, result):\n",
    "    \"\"\"Calculate the sum of squares of numbers and store the result in the given shared array.\"\"\"\n",
    "    total = 0\n",
    "    for num in numbers:\n",
    "        total += num**2\n",
    "    result.value = total\n",
    "    \n",
    "if __name__ =='__main__':\n",
    "    nums = [1, 2, 3, 4, 5]\n",
    "    result = multiprocessing.Value('i') # shared integer value\n",
    "    p = multiprocessing.Process(target=square_sum, args=(nums, result))\n",
    "    p.start()\n",
    "    p.join()\n",
    "    print(f\"Sum of square of {nums} is {result.value}\")"
   ]
  },
  {
   "cell_type": "markdown",
   "id": "4ceb770a-b3c9-4477-86c0-b5886159cdd9",
   "metadata": {},
   "source": [
    "79.Write a Python program that uses the multiprocessing module to calculate the sum of a large list of integers."
   ]
  },
  {
   "cell_type": "code",
   "execution_count": 3,
   "id": "15c4e7bc-f4b6-44cd-bfb0-731b273bb422",
   "metadata": {},
   "outputs": [],
   "source": [
    "import multiprocessing\n",
    "def sum_worker(data_chunk):\n",
    "    return sum(data_chunk)\n",
    "def main():\n",
    "    data = [1, 2, 3, 4, 5, 6, 7, 8, 9, 10] * 100000\n",
    "    pool = multiprocessing.Pool(processes=4)\n",
    "    chunksize = len(data) // 4\n",
    "    chunks =[data[i:i+chunksize] for i in range(0, len(data), chunksize)]\n",
    "    results = pool.map(sum_worker, chunks)\n",
    "    pool.close()\n",
    "    pool.join()\n",
    "    total = sum(results)\n",
    "    print(total)\n",
    "    if __name__ == \"__main__\":\n",
    "        main()"
   ]
  },
  {
   "cell_type": "code",
   "execution_count": 4,
   "id": "11cd8d04-d000-4248-84b2-0faf580720ee",
   "metadata": {},
   "outputs": [
    {
     "name": "stdout",
     "output_type": "stream",
     "text": [
      "5500000\n"
     ]
    }
   ],
   "source": [
    "import multiprocessing\n",
    "def sum_worker(data_chunk):\n",
    "    return sum(data_chunk)\n",
    "def main():\n",
    "    data = [1, 2, 3, 4, 5, 6, 7, 8, 9, 10] * 100000\n",
    "    pool = multiprocessing.Pool(processes=4)\n",
    "    chunksize = len(data) // 4\n",
    "    chunks = [data[i:i+chunksize] for i in range(0, len(data), chunksize)]\n",
    "    results = pool.map(sum_worker, chunks)\n",
    "    pool.close()\n",
    "    pool.join()\n",
    "    total = sum(results)\n",
    "    print(total)\n",
    "if __name__ == \"__main__\":\n",
    "    main()"
   ]
  },
  {
   "cell_type": "markdown",
   "id": "94a6e386-b172-4f0f-92e0-50a16bc265c2",
   "metadata": {},
   "source": [
    "80.Write a Python program that uses the multiprocessing module to parallelize the computation of the factorial of a number."
   ]
  },
  {
   "cell_type": "code",
   "execution_count": 5,
   "id": "156fc991-fd37-40a0-b8ca-7c5167a008aa",
   "metadata": {},
   "outputs": [
    {
     "name": "stdout",
     "output_type": "stream",
     "text": [
      "The factorials of the numbers 1 to 10 are: [1, 2, 6, 24, 120, 720, 5040, 40320, 362880, 3628800]\n"
     ]
    }
   ],
   "source": [
    "import multiprocessing\n",
    "def factorial(n):\n",
    "    if n == 0:\n",
    "        return 1\n",
    "    else:\n",
    "        return n * factorial(n-1)\n",
    "def factorial_worker(n):\n",
    "    return factorial(n)\n",
    "def main():\n",
    "    n = 10\n",
    "    pool = multiprocessing.Pool(processes=4)\n",
    "    results = pool.map(factorial_worker, range(1, n+1))\n",
    "    pool.close()\n",
    "    pool.join()\n",
    "    print(f\"The factorials of the numbers 1 to {n} are: {results}\")\n",
    "if __name__ == \"__main__\":\n",
    "    main()"
   ]
  },
  {
   "cell_type": "markdown",
   "id": "3a42758a-ffe8-48e1-b487-d01afddea476",
   "metadata": {},
   "source": [
    "81.Write a Python program that prompts the user for two integers and divides the first integer by the second integer. If the either variable are none integer then print the value error and second integer is zero, catch the ZeroDivisionError and print an error message to the user."
   ]
  },
  {
   "cell_type": "code",
   "execution_count": 6,
   "id": "7cf8c70e-1f7a-42df-894b-add9537073bb",
   "metadata": {},
   "outputs": [
    {
     "name": "stdin",
     "output_type": "stream",
     "text": [
      "Enter the first integer:  5\n",
      "Enter the second integer: 9\n"
     ]
    },
    {
     "name": "stdout",
     "output_type": "stream",
     "text": [
      "Result: 0.5555555555555556\n"
     ]
    }
   ],
   "source": [
    "while True:\n",
    "    try:\n",
    "        x = int(input(\"Enter the first integer: \"))\n",
    "        y = int(input(\"Enter the second integer:\"))\n",
    "        result = x / y\n",
    "        print(\"Result:\", result)\n",
    "        break\n",
    "    except ValueError:\n",
    "        print(\"Please enter interger only.\")\n",
    "    except ZeroDivisionError:\n",
    "            print(\"Error: division by zero.please enter a non-zero value for the second integer. \")"
   ]
  },
  {
   "cell_type": "markdown",
   "id": "490747f5-9272-4cda-ac92-cce6416f39e9",
   "metadata": {},
   "source": [
    "82.Write a Python program that prompts the user for a password and checks whether the password meets certain criteria (e.g., at least 8 characters, contains at least one uppercase letter, etc.). If the password does not meet the criteria, raise a custom exception called PasswordError with a custom error message."
   ]
  },
  {
   "cell_type": "code",
   "execution_count": 7,
   "id": "5cca6d45-48f9-4aa1-8e5a-ed151e269ce0",
   "metadata": {},
   "outputs": [
    {
     "name": "stdin",
     "output_type": "stream",
     "text": [
      "Enter a password:  Asdfg@12345\n"
     ]
    },
    {
     "name": "stdout",
     "output_type": "stream",
     "text": [
      "Password is valid.\n"
     ]
    }
   ],
   "source": [
    "class PasswordError(Exception):\n",
    "    pass\n",
    "\n",
    "def check_password(password):\n",
    "    # Check password criteia \n",
    "    if len(password) < 8:\n",
    "        raise PasswordError(\"Error: pasword must be at least 8 characters long.\")\n",
    "    elif not any(char.isupper() for char in password):\n",
    "        raise PasswordError(\"Error: password must be contain at least one uppercase letter.\")\n",
    "    elif not any(char.isdigit() for char in password):\n",
    "        raise PasswordError(\"Erro: password must contain at least on digits.\")\n",
    "    elif not any(char in ['$', '#', '@'] for char in password):\n",
    "        raise PasswordError(\"Error: password must contain at least one of the following special characters: $ # @\")\n",
    "    else:\n",
    "        print(\"Password is valid.\")\n",
    "        \n",
    "#prompt user for password \n",
    "password = input(\"Enter a password: \")        \n",
    "\n",
    "#check password \n",
    "try:\n",
    "    check_password(password)\n",
    "except PasswordError as e:\n",
    "    print(e)"
   ]
  },
  {
   "cell_type": "markdown",
   "id": "30e4cf05-37cf-4e92-8e24-d06092fddc5c",
   "metadata": {},
   "source": [
    "83.Write a Python program that prompts the user for a number and calculates the square root of the number using the math.sqrt() function. If the number is negative, raise a ValueError with a custom error message."
   ]
  },
  {
   "cell_type": "code",
   "execution_count": 8,
   "id": "765539ef-c9bc-47c3-af86-5500c0df15d5",
   "metadata": {},
   "outputs": [
    {
     "name": "stdin",
     "output_type": "stream",
     "text": [
      "Enter a list of strings separated by commas:  h x s j l\n"
     ]
    },
    {
     "name": "stdout",
     "output_type": "stream",
     "text": [
      "Error: list contains non-alphabetic characters.\n"
     ]
    },
    {
     "name": "stdin",
     "output_type": "stream",
     "text": [
      "Enter a list of strings separated by commas:  h, k, j, l, m\n"
     ]
    },
    {
     "name": "stdout",
     "output_type": "stream",
     "text": [
      "Error: list contains non-alphabetic characters.\n"
     ]
    },
    {
     "name": "stdin",
     "output_type": "stream",
     "text": [
      "Enter a list of strings separated by commas:  k,k,f,j,l\n"
     ]
    },
    {
     "name": "stdout",
     "output_type": "stream",
     "text": [
      "sorted list: ['f', 'j', 'k', 'k', 'l']\n"
     ]
    }
   ],
   "source": [
    "while True:\n",
    "    try:\n",
    "        # prompt user for list of strings\n",
    "        string_list = input(\"Enter a list of strings separated by commas: \").split(\",\")\n",
    "        \n",
    "        #sort list in alphabetical order \n",
    "        sorted_list = sorted(string_list)\n",
    "        \n",
    "        # Check if any string contains non-alphabetic characters\n",
    "        for string in sorted_list:\n",
    "            if not string.isalpha():\n",
    "                raise TypeError(\"Error: list contains non-alphabetic characters.\")\n",
    "        # print sorted list\n",
    "        print(\"sorted list:\", sorted_list)\n",
    "        break\n",
    "    except TypeError as e:\n",
    "        print(e)"
   ]
  },
  {
   "cell_type": "markdown",
   "id": "55514b05-f03b-4908-81b4-b6d8bab7348d",
   "metadata": {},
   "source": [
    "84.Write a Python program that prompts the user for a number and calculates the square root of the number using the math.sqrt() function. If the number is negative, raise a ValueError with a custom error message."
   ]
  },
  {
   "cell_type": "code",
   "execution_count": 9,
   "id": "59d3776c-9244-4b3c-8107-53fd25c7a8a5",
   "metadata": {},
   "outputs": [
    {
     "name": "stdin",
     "output_type": "stream",
     "text": [
      "Enter a number:  -85\n"
     ]
    },
    {
     "name": "stdout",
     "output_type": "stream",
     "text": [
      "Error: number cannot be negative.\n"
     ]
    },
    {
     "name": "stdin",
     "output_type": "stream",
     "text": [
      "Enter a number:  96\n"
     ]
    },
    {
     "name": "stdout",
     "output_type": "stream",
     "text": [
      "The square root of 96.0 is 9.797958971132712\n"
     ]
    }
   ],
   "source": [
    "import math\n",
    "\n",
    "while True:\n",
    "    try:\n",
    "        # Prompt user for number\n",
    "        num = float(input(\"Enter a number: \"))\n",
    "\n",
    "        # Check if number is negative\n",
    "        if num < 0:\n",
    "            raise ValueError(\"Error: number cannot be negative.\")\n",
    "\n",
    "        # Calculate square root\n",
    "        result = math.sqrt(num)\n",
    "        print(\"The square root of\", num, \"is\", result)\n",
    "        break\n",
    "    except ValueError as e:\n",
    "        print(e)"
   ]
  },
  {
   "cell_type": "markdown",
   "id": "d10790ad-8dc3-499b-91f5-3b6494418daa",
   "metadata": {},
   "source": [
    "85.Write a Python program that prompts the user for a list of integers and calculates the average of the list. If the list is empty, raise a ValueError with a custom error message."
   ]
  },
  {
   "cell_type": "code",
   "execution_count": 10,
   "id": "e12c9ba7-d5d0-43c8-aea0-407fb0ca8d64",
   "metadata": {},
   "outputs": [
    {
     "name": "stdin",
     "output_type": "stream",
     "text": [
      "Enter a list of integers (separated by spaces):  6 4 7 8 5 1\n"
     ]
    },
    {
     "name": "stdout",
     "output_type": "stream",
     "text": [
      "Average of the list: 5.166666666666667\n"
     ]
    }
   ],
   "source": [
    "try:\n",
    "    # Prompt user for a list of integers\n",
    "    num_list = [int(num) for num in input(\"Enter a list of integers (separated by spaces): \").split()]\n",
    "\n",
    "    # Calculate the average of the list\n",
    "    avg = sum(num_list) / len(num_list)\n",
    "    print(\"Average of the list:\", avg)\n",
    "\n",
    "    # Raise a ValueError if the list is empty\n",
    "    if not num_list:\n",
    "        raise ValueError(\"List is empty\")\n",
    "except ValueError as e:\n",
    "    print(\"Error:\", e)"
   ]
  },
  {
   "cell_type": "markdown",
   "id": "f974bc2e-cde2-4452-9187-fa41a377246e",
   "metadata": {},
   "source": [
    "86.Write a function that takes a string as input and returns the number of vowels in the string. If the input is not a string, raise a TypeError with a custom error message."
   ]
  },
  {
   "cell_type": "code",
   "execution_count": 13,
   "id": "07ca85e4-7125-4491-bae5-fb3395192deb",
   "metadata": {},
   "outputs": [],
   "source": [
    "def count_vowels(string):\n",
    "    try:\n",
    "        # Check if input is a string\n",
    "        if not isinstance(string, str):\n",
    "            raise TypeError(\"Input must be a string\")\n",
    "\n",
    "        # Count and return the number of vowels in the string\n",
    "        vowels = \"aeiouAEIOU\"\n",
    "        return sum([1 for char in string if char in vowels])\n",
    "    except TypeError as e:\n",
    "        print(\"Error:\", e)"
   ]
  },
  {
   "cell_type": "code",
   "execution_count": 15,
   "id": "a4a0b693-becb-4bb7-8311-290ab5e70f1d",
   "metadata": {},
   "outputs": [
    {
     "name": "stdout",
     "output_type": "stream",
     "text": [
      "Error: Input must be a string\n"
     ]
    }
   ],
   "source": [
    "count_vowels(4)"
   ]
  },
  {
   "cell_type": "code",
   "execution_count": 16,
   "id": "891be1f7-6295-482b-92bb-ac7e5691eb16",
   "metadata": {},
   "outputs": [
    {
     "data": {
      "text/plain": [
       "5"
      ]
     },
     "execution_count": 16,
     "metadata": {},
     "output_type": "execute_result"
    }
   ],
   "source": [
    "count_vowels(\"aieoujdnj\")"
   ]
  },
  {
   "cell_type": "code",
   "execution_count": 17,
   "id": "bdc22b96-2786-419e-946e-0c74cfd60251",
   "metadata": {},
   "outputs": [
    {
     "data": {
      "text/plain": [
       "6"
      ]
     },
     "execution_count": 17,
     "metadata": {},
     "output_type": "execute_result"
    }
   ],
   "source": [
    "count_vowels(\"this is a function\")"
   ]
  },
  {
   "cell_type": "markdown",
   "id": "b5f3e49c-5832-448b-92ef-bd9e87a33bc4",
   "metadata": {},
   "source": [
    "87.write a python program how to handle simple runtime error?"
   ]
  },
  {
   "cell_type": "code",
   "execution_count": 19,
   "id": "51985570-cbb1-428e-bbd6-ce132c55eb1c",
   "metadata": {},
   "outputs": [
    {
     "name": "stdout",
     "output_type": "stream",
     "text": [
      "Second element = 2\n",
      "An error occurred\n"
     ]
    }
   ],
   "source": [
    "a = [1, 2, 3]\n",
    "try:\n",
    "    print (\"Second element = %d\" %(a[1]))\n",
    "    # Throws error since there are only 3 elements in array\n",
    "    print (\"Fourth element = %d\" %(a[3]))\n",
    "except:\n",
    "    print (\"An error occurred\")"
   ]
  },
  {
   "cell_type": "markdown",
   "id": "3b6457d3-8b15-48fa-becc-8aae618bb11f",
   "metadata": {},
   "source": [
    "88.write a program how to handle multiple errors with one answer:# Program to handle multiple errors with one"
   ]
  },
  {
   "cell_type": "code",
   "execution_count": 20,
   "id": "20acc95f-68d5-4677-b635-44cc46fc45e2",
   "metadata": {},
   "outputs": [
    {
     "name": "stdout",
     "output_type": "stream",
     "text": [
      "ZeroDivisionError Occurred and Handled\n"
     ]
    }
   ],
   "source": [
    "def fun(a):\n",
    "\tif a < 4:\n",
    "\t\t# throws ZeroDivisionError for a = 3\n",
    "\t\tb = a/(a-3)\n",
    "\t# throws NameError if a >= 4\n",
    "\tprint(\"Value of b = \", b)\n",
    "\n",
    "try:\n",
    "\tfun(3)\n",
    "\tfun(5)\n",
    "# note that braces () are necessary here for\n",
    "# multiple exceptions\n",
    "except ZeroDivisionError:\n",
    "\tprint(\"ZeroDivisionError Occurred and Handled\")\n",
    "except NameError:\n",
    "\tprint(\"NameError Occurred and Handled\")"
   ]
  },
  {
   "cell_type": "markdown",
   "id": "33914ab7-34b7-43df-b56c-c9cdcde0a044",
   "metadata": {},
   "source": [
    "89.write a program to print the reciprocal of even numbers note:we might want to run a certain block of code if the code block inside try runs without any errors. For these cases, you can use the optional else keyword with the try statement."
   ]
  },
  {
   "cell_type": "code",
   "execution_count": 22,
   "id": "b5789a7d-9209-486a-a792-2d05fd362b57",
   "metadata": {},
   "outputs": [
    {
     "name": "stdin",
     "output_type": "stream",
     "text": [
      "Enter a number:  97\n"
     ]
    },
    {
     "name": "stdout",
     "output_type": "stream",
     "text": [
      "Not an even number!\n"
     ]
    }
   ],
   "source": [
    "try:\n",
    "    num = int(input(\"Enter a number: \"))\n",
    "    assert num % 2 == 0\n",
    "except:\n",
    "    print(\"Not an even number!\")\n",
    "else:\n",
    "    reciprocal = 1/num\n",
    "    print(reciprocal)"
   ]
  },
  {
   "cell_type": "markdown",
   "id": "f888387a-6328-4ff7-9846-a9d2ce69cd2a",
   "metadata": {},
   "source": [
    "90.How to handle exceptions using the try, except, and finally statements write code"
   ]
  },
  {
   "cell_type": "code",
   "execution_count": 23,
   "id": "511af690-99e3-44f0-8f75-988f9c69fa5e",
   "metadata": {},
   "outputs": [
    {
     "name": "stdin",
     "output_type": "stream",
     "text": [
      "Enter a number:  98\n"
     ]
    },
    {
     "name": "stdout",
     "output_type": "stream",
     "text": [
      "Result: 0.02040816326530612\n",
      "Thank you for using this program!\n"
     ]
    }
   ],
   "source": [
    "try:\n",
    "    # Ask the user to enter a number\n",
    "    num = int(input(\"Enter a number: \"))\n",
    "\n",
    "    # Divide the number by 2\n",
    "    result = 2 / num\n",
    "\n",
    "    # Print the result\n",
    "    print(\"Result:\", result)\n",
    "except ValueError:\n",
    "    # Handle the case where the user did not enter a valid number\n",
    "    print(\"Error: You must enter a valid number\")\n",
    "except ZeroDivisionError:\n",
    "    # Handle the case where the user entered 0 as the number\n",
    "    print(\"Error: You cannot divide by zero\")\n",
    "finally:\n",
    "    # Clean up resources or run some final code\n",
    "    print(\"Thank you for using this program!\")"
   ]
  },
  {
   "cell_type": "markdown",
   "id": "4abb9497-1ec3-45c1-9d42-a5d054de3947",
   "metadata": {},
   "source": [
    "91.Write a Python program to create a MySQL database and a table."
   ]
  },
  {
   "cell_type": "code",
   "execution_count": 2,
   "id": "9feda3fa-fa8b-4a9d-98b3-6a5541800e6a",
   "metadata": {},
   "outputs": [
    {
     "ename": "ModuleNotFoundError",
     "evalue": "No module named 'mysql'",
     "output_type": "error",
     "traceback": [
      "\u001b[0;31m---------------------------------------------------------------------------\u001b[0m",
      "\u001b[0;31mModuleNotFoundError\u001b[0m                       Traceback (most recent call last)",
      "Cell \u001b[0;32mIn[2], line 1\u001b[0m\n\u001b[0;32m----> 1\u001b[0m \u001b[38;5;28;01mimport\u001b[39;00m \u001b[38;5;21;01mmysql\u001b[39;00m\u001b[38;5;21;01m.\u001b[39;00m\u001b[38;5;21;01mconnector\u001b[39;00m\n\u001b[1;32m      2\u001b[0m mydb \u001b[38;5;241m=\u001b[39m mysql\u001b[38;5;241m.\u001b[39mconnector\u001b[38;5;241m.\u001b[39mconnect(\n\u001b[1;32m      3\u001b[0m   host\u001b[38;5;241m=\u001b[39m\u001b[38;5;124m\"\u001b[39m\u001b[38;5;124mlocalhost\u001b[39m\u001b[38;5;124m\"\u001b[39m,\n\u001b[1;32m      4\u001b[0m   user\u001b[38;5;241m=\u001b[39m\u001b[38;5;124m\"\u001b[39m\u001b[38;5;124myourusername\u001b[39m\u001b[38;5;124m\"\u001b[39m,\n\u001b[1;32m      5\u001b[0m   password\u001b[38;5;241m=\u001b[39m\u001b[38;5;124m\"\u001b[39m\u001b[38;5;124myourpassword\u001b[39m\u001b[38;5;124m\"\u001b[39m\n\u001b[1;32m      6\u001b[0m )\n\u001b[1;32m      7\u001b[0m mycursor \u001b[38;5;241m=\u001b[39m mydb\u001b[38;5;241m.\u001b[39mcursor()\n",
      "\u001b[0;31mModuleNotFoundError\u001b[0m: No module named 'mysql'"
     ]
    }
   ],
   "source": [
    "import mysql.connector\n",
    "mydb = mysql.connector.connect(\n",
    "  host=\"localhost\",\n",
    "  user=\"yourusername\",\n",
    "  password=\"yourpassword\"\n",
    ")\n",
    "mycursor = mydb.cursor()\n",
    "mycursor.execute(\"CREATE DATABASE mydatabase\")\n",
    "mycursor.execute(\"CREATE TABLE customers (name VARCHAR(255), address VARCHAR(255))\")\n"
   ]
  },
  {
   "cell_type": "code",
   "execution_count": null,
   "id": "38404531-80a6-4d46-9db2-fe1ec84b51f0",
   "metadata": {},
   "outputs": [],
   "source": []
  }
 ],
 "metadata": {
  "kernelspec": {
   "display_name": "Python 3 (ipykernel)",
   "language": "python",
   "name": "python3"
  },
  "language_info": {
   "codemirror_mode": {
    "name": "ipython",
    "version": 3
   },
   "file_extension": ".py",
   "mimetype": "text/x-python",
   "name": "python",
   "nbconvert_exporter": "python",
   "pygments_lexer": "ipython3",
   "version": "3.10.8"
  }
 },
 "nbformat": 4,
 "nbformat_minor": 5
}
